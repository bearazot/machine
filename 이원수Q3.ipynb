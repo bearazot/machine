{
 "cells": [
  {
   "cell_type": "code",
   "execution_count": null,
   "id": "d7ea2e6b-a1ac-4d52-8a21-62139a11867f",
   "metadata": {},
   "outputs": [],
   "source": [
    "import pandas as pd    ###\n",
    "\n",
    "# 엑셀 파일 경로를 지정\n",
    "xlsx_file = pd.read_excel(r'C:\\temp\\online.xlsx') ##  online_retail_ii을 online.csv로 바꿈...\n",
    "\n",
    "# csv로 변환한 후 파일명과 저장 경로 지정\n",
    "xlsx_file.to_csv(r'C:\\temp\\online.csv', index=None, header=True )"
   ]
  },
  {
   "cell_type": "code",
   "execution_count": null,
   "id": "0dfb99e5-7402-4084-9861-b90bc2003836",
   "metadata": {},
   "outputs": [],
   "source": [
    "import random\n",
    "import pandas as pd\n",
    "import numpy as np\n",
    "import matplotlib.pyplot as plt\n",
    "import seaborn as sns\n",
    "from datetime import datetime\n",
    "from scipy import stats as stats"
   ]
  },
  {
   "cell_type": "code",
   "execution_count": null,
   "id": "8bfa54d0-4937-489a-a87e-c7977379598c",
   "metadata": {},
   "outputs": [],
   "source": [
    "df=pd.read_csv('c:/temp/online.csv')"
   ]
  },
  {
   "cell_type": "code",
   "execution_count": null,
   "id": "7ef44561-7cb8-4863-bd42-a39edd511a10",
   "metadata": {},
   "outputs": [],
   "source": [
    "df"
   ]
  },
  {
   "cell_type": "code",
   "execution_count": null,
   "id": "0384b554-91e8-46c1-bdae-0e222c092285",
   "metadata": {},
   "outputs": [],
   "source": [
    "df['InvoiceDate'] = pd.to_datetime(df['InvoiceDate']).dt.strftime('%Y-%m-%d')\n"
   ]
  },
  {
   "cell_type": "code",
   "execution_count": null,
   "id": "a6a95046-2d1d-4c63-b0e2-00e3ffea758b",
   "metadata": {},
   "outputs": [],
   "source": [
    "\n",
    "df['InvoiceDate'] = pd.to_datetime(df['InvoiceDate'])\n",
    "\n",
    "df = df.dropna(subset=['Customer ID'])"
   ]
  },
  {
   "cell_type": "code",
   "execution_count": null,
   "id": "8881a68d-4be7-439e-9b04-7f7a9e39fe30",
   "metadata": {},
   "outputs": [],
   "source": [
    "# 1. Customer ID를 정수형으로 변환 \n",
    "df['Customer ID'] = df['Customer ID'].astype(int)\n",
    "\n",
    "# 2. InvoiceDate를 기준으로 정렬 (오름차순)\n",
    "df = df.sort_values(by='InvoiceDate')\n",
    "\n",
    "# 내림차순 정렬을 원할 경우:\n",
    "# df = df.sort_values(by='InvoiceDate', ascending=False)\n"
   ]
  },
  {
   "cell_type": "code",
   "execution_count": null,
   "id": "d9d4d6fc-2144-4c2f-9fab-af1d5ad2e9fa",
   "metadata": {},
   "outputs": [],
   "source": [
    "# 1. Total 컬럼 생성 (Quantity * Price)\n",
    "df['Total'] = df['Quantity'] * df['Price']\n",
    "\n",
    "# 결과 확인\n",
    "print(df[['Quantity', 'Price', 'Total']].head())"
   ]
  },
  {
   "cell_type": "code",
   "execution_count": null,
   "id": "a2521ad6-1ecb-4c95-93c3-c0b7a68b766a",
   "metadata": {},
   "outputs": [],
   "source": [
    "# 1. 국가별 고유 고객 수 계산\n",
    "unique_customers = df.groupby('Country')['Customer ID'].nunique().reset_index()\n",
    "unique_customers.columns = ['Country', 'Unique Customers']  # 컬럼명 변경\n",
    "\n",
    "# 2. 시각화 (막대 그래프)\n",
    "plt.figure(figsize=(12, 6))\n",
    "sns.barplot(\n",
    "    x='Country', \n",
    "    y='Unique Customers', \n",
    "    data=unique_customers.sort_values('Unique Customers', ascending=False),\n",
    "    palette='viridis'\n",
    ")\n",
    "\n",
    "# 그래프 제목 및 레이블 설정\n",
    "plt.title('Number of Unique Customers by Country', fontsize=15)\n",
    "plt.xlabel('Country', fontsize=12)\n",
    "plt.ylabel('Number of Unique Customers', fontsize=12)\n",
    "plt.xticks(rotation=45)  # 국가명이 길 경우 회전\n",
    "\n",
    "# 값 표시 (각 막대 위에 숫자 표시)\n",
    "for index, value in enumerate(unique_customers.sort_values('Unique Customers', ascending=False)['Unique Customers']):\n",
    "    plt.text(index, value, str(value), ha='center', va='bottom')\n",
    "\n",
    "plt.tight_layout()\n",
    "plt.show()"
   ]
  },
  {
   "cell_type": "code",
   "execution_count": null,
   "id": "9076b609-5bb2-41af-8baa-c3786ea6e4df",
   "metadata": {},
   "outputs": [],
   "source": [
    "# 1. 각 고객의 첫 구매 날짜 계산\n",
    "first_purchase = df.groupby('Customer ID')['InvoiceDate'].min().reset_index()\n",
    "first_purchase.columns = ['Customer ID', 'FirstPurchaseDate']  # 컬럼명 변경\n",
    "\n",
    "# 2. 원본 데이터에 첫 구매 날짜 병합\n",
    "df = pd.merge(df, first_purchase, on='Customer ID')\n",
    "\n",
    "# 3. 첫 구매 날짜에서 '년-월' 추출\n",
    "df['FirstPurchaseMonth'] = df['FirstPurchaseDate'].dt.to_period('M').astype(str)\n"
   ]
  },
  {
   "cell_type": "code",
   "execution_count": null,
   "id": "d35ee03d-e826-46ef-a31c-5a89f3aed9c0",
   "metadata": {},
   "outputs": [],
   "source": [
    "# 월별 신규 고객 수 집계\n",
    "monthly_new_customers = df.groupby('FirstPurchaseMonth')['Customer ID'].nunique().reset_index()\n",
    "monthly_new_customers.columns = ['Month', 'NewCustomers']  # 컬럼명 변경"
   ]
  },
  {
   "cell_type": "code",
   "execution_count": null,
   "id": "4ea964d5-10a9-49cf-824b-50aac7ecba56",
   "metadata": {},
   "outputs": [],
   "source": [
    "plt.figure(figsize=(14, 7))\n",
    "\n",
    "# 막대 그래프 (신규 고객 수)\n",
    "sns.barplot(\n",
    "    x='Month', \n",
    "    y='NewCustomers', \n",
    "    data=monthly_new_customers,\n",
    "    color='skyblue',\n",
    "    alpha=0.6\n",
    ")\n",
    "\n",
    "# 라인 플롯 (트렌드 강조)\n",
    "sns.lineplot(\n",
    "    x='Month', \n",
    "    y='NewCustomers', \n",
    "    data=monthly_new_customers,\n",
    "    color='red', \n",
    "    marker='o',\n",
    "    linewidth=2,\n",
    "    markersize=8,\n",
    "    label='Trend'\n",
    ")\n",
    "\n",
    "# 그래프 스타일링\n",
    "plt.title('Monthly New Customer Acquisition', fontsize=16, pad=20)\n",
    "plt.xlabel('Month', fontsize=12)\n",
    "plt.ylabel('Number of New Customers', fontsize=12)\n",
    "plt.xticks(rotation=45)\n",
    "plt.grid(axis='y', linestyle='--', alpha=0.4)\n",
    "\n",
    "# 값 표시 (막대 위에 숫자 표시)\n",
    "for index, row in monthly_new_customers.iterrows():\n",
    "    plt.text(\n",
    "        index, \n",
    "        row['NewCustomers'] + 0.5,  # Y축 위치 조정\n",
    "        str(row['NewCustomers']), \n",
    "        ha='center', \n",
    "        va='bottom',\n",
    "        fontsize=10\n",
    "    )\n",
    "\n",
    "plt.legend()\n",
    "plt.tight_layout()\n",
    "plt.show()"
   ]
  },
  {
   "cell_type": "code",
   "execution_count": null,
   "id": "bc413cc1-f386-4d97-aa43-aae6b7fec287",
   "metadata": {},
   "outputs": [],
   "source": [
    "# 필수 컬럼 확인: Customer ID, InvoiceDate, Total(구매 금액)\n",
    "print(df[[\"Customer ID\", \"InvoiceDate\", \"Total\"]].head())\n"
   ]
  },
  {
   "cell_type": "code",
   "execution_count": null,
   "id": "738dce49-7bf9-4da7-bcb4-35c0fc8215a5",
   "metadata": {},
   "outputs": [],
   "source": [
    "# 1. 각 고객의 첫 구매 날짜 추출\n",
    "first_purchase = df.groupby(\"Customer ID\")[\"InvoiceDate\"].min().reset_index()\n",
    "first_purchase.columns = [\"Customer ID\", \"FirstPurchaseDate\"]"
   ]
  },
  {
   "cell_type": "code",
   "execution_count": null,
   "id": "a94c11a3-7cdd-4dc2-982d-2df4cba5616f",
   "metadata": {},
   "outputs": [],
   "source": [
    "# 2. 첫 구매 이후의 모든 거래에서 총 구매 금액 계산\n",
    "def calculate_total_spent_after_first_purchase(row):\n",
    "    customer_id = row[\"Customer ID\"]\n",
    "    first_date = row[\"FirstPurchaseDate\"]\n",
    "    total_spent = df[(df[\"Customer ID\"] == customer_id) & \n",
    "                     (df[\"InvoiceDate\"] >= first_date)][\"Total\"].sum()\n",
    "    return total_spent\n",
    "\n",
    "first_purchase[\"TotalSpentAfterFirstPurchase\"] = first_purchase.apply(\n",
    "    calculate_total_spent_after_first_purchase, axis=1\n",
    ")"
   ]
  },
  {
   "cell_type": "code",
   "execution_count": null,
   "id": "0bcdf7e2-d41c-4080-9421-833e0f390856",
   "metadata": {},
   "outputs": [],
   "source": [
    "# 활성화 기준 (£50 이상)\n",
    "ACTIVATION_THRESHOLD = 50\n",
    "\n",
    "# 1. 전체 고객 수\n",
    "total_customers = len(first_purchase)\n",
    "\n",
    "# 2. 활성화된 고객 수 (첫 구매 후 £50 이상 구매)\n",
    "activated_customers = first_purchase[first_purchase[\"TotalSpentAfterFirstPurchase\"] >= ACTIVATION_THRESHOLD]\n",
    "activated_count = len(activated_customers)\n",
    "\n",
    "# 3. 활성화율 계산\n",
    "activation_rate = (activated_count / total_customers) * 100\n",
    "\n",
    "# 결과 출력\n",
    "print(f\"전체 고객 수: {total_customers}\")\n",
    "print(f\"활성화된 고객 수 (£{ACTIVATION_THRESHOLD}+): {activated_count}\")\n",
    "print(f\"활성화율: {activation_rate:.2f}%\")\n"
   ]
  },
  {
   "cell_type": "code",
   "execution_count": null,
   "id": "62584d19-7fa0-4a0c-bf48-339db506cdf8",
   "metadata": {},
   "outputs": [],
   "source": [
    "plt.figure(figsize=(10, 6))\n",
    "data = {\n",
    "    \"Category\": [\"Total Customers\", \"Activated Customers\"],\n",
    "    \"Count\": [total_customers, activated_count]\n",
    "}\n",
    "df_viz = pd.DataFrame(data)\n",
    "\n",
    "# 막대 그래프\n",
    "ax = sns.barplot(x=\"Category\", y=\"Count\", data=df_viz, palette=[\"skyblue\", \"salmon\"])\n",
    "\n",
    "# 값 및 비율 표시\n",
    "for p in ax.patches:\n",
    "    height = p.get_height()\n",
    "    ax.text(p.get_x() + p.get_width()/2., height + 5,\n",
    "            f\"{height:,}\\n({height/total_customers*100:.1f}%)\",\n",
    "            ha=\"center\", fontsize=12)\n",
    "\n",
    "plt.title(\"Customer Activation Analysis\", fontsize=16)\n",
    "plt.ylabel(\"Number of Customers\", fontsize=12)\n",
    "plt.xticks(fontsize=12)\n",
    "sns.despine()\n",
    "plt.show()"
   ]
  },
  {
   "cell_type": "code",
   "execution_count": null,
   "id": "8e8ae8b1-5380-495a-be9e-6072390b2df3",
   "metadata": {},
   "outputs": [],
   "source": [
    "# 1. 각 고객의 첫 구매 분기(코호트) 계산\n",
    "df[\"InvoiceQuarter\"] = df[\"InvoiceDate\"].dt.to_period(\"Q\")\n",
    "df[\"CohortQuarter\"] = df.groupby(\"Customer ID\")[\"InvoiceDate\"].transform(\"min\").dt.to_period(\"Q\")\n",
    "\n",
    "# 2. 코호트-분기별 고객 활동 집계\n",
    "cohort_data = df.groupby([\"CohortQuarter\", \"InvoiceQuarter\"]).agg(\n",
    "    ActiveCustomers=(\"Customer ID\", \"nunique\"),  # 활성 고객 수\n",
    "    TotalRevenue=(\"Total\", \"sum\")              # 매출액 (옵션)\n",
    ").reset_index()\n",
    "\n",
    "# 3. 코호트 인덱스(분기 간격) 계산\n",
    "cohort_data[\"Periods\"] = (cohort_data[\"InvoiceQuarter\"] - cohort_data[\"CohortQuarter\"]).apply(\n",
    "    lambda x: x.n if x.n >= 0 else 0  # 음수 제거\n",
    ")"
   ]
  },
  {
   "cell_type": "code",
   "execution_count": null,
   "id": "17275ef9-d97b-44fd-9def-cc4b69ba5098",
   "metadata": {},
   "outputs": [],
   "source": [
    "##고객 유지율 계산\n",
    "\n",
    "# 1. 각 코호트의 초기 고객 수 추출\n",
    "cohort_size = cohort_data[cohort_data[\"Periods\"] == 0][[\"CohortQuarter\", \"ActiveCustomers\"]]\n",
    "cohort_size.columns = [\"CohortQuarter\", \"InitialCustomers\"]\n",
    "\n",
    "# 2. 유지율 계산 (%)\n",
    "retention = pd.merge(cohort_data, cohort_size, on=\"CohortQuarter\")\n",
    "retention[\"RetentionRate\"] = (retention[\"ActiveCustomers\"] / retention[\"InitialCustomers\"]) * 100\n",
    "\n",
    "# 3. 피벗 테이블 생성 (시각화용)\n",
    "retention_pivot = retention.pivot_table(\n",
    "    index=\"CohortQuarter\",\n",
    "    columns=\"Periods\",\n",
    "    values=\"RetentionRate\",\n",
    "    aggfunc=\"mean\"\n",
    ")"
   ]
  },
  {
   "cell_type": "code",
   "execution_count": null,
   "id": "7184854b-162c-4e22-9d48-07f390b0b127",
   "metadata": {},
   "outputs": [],
   "source": [
    "plt.figure(figsize=(12, 8))\n",
    "sns.heatmap(\n",
    "    retention_pivot,\n",
    "    annot=True,\n",
    "    fmt=\".2f\",\n",
    "    cmap=\"Greens\",\n",
    "    cbar_kws={'label':'Retention Rate, %'},\n",
    "    linewidths=0.5,\n",
    "    linecolor='gray',\n",
    "    mask=retention_pivot.isnull()\n",
    ")\n",
    "plt.title(\"Quarterly Cohort Retention Rate (%)\", fontsize=16)\n",
    "plt.xlabel(\"Quarters After First Purchase\", fontsize=12)\n",
    "plt.ylabel(\"Cohort Quarter\", fontsize=12)\n",
    "plt.show()"
   ]
  },
  {
   "cell_type": "code",
   "execution_count": null,
   "id": "847a4ece-ce09-4517-bb31-e5c193edb721",
   "metadata": {},
   "outputs": [],
   "source": [
    "# 1. 각 고객의 첫 구매 분기(코호트)와 거래 분기 계산\n",
    "df[\"InvoiceQuarter\"] = df[\"InvoiceDate\"].dt.to_period(\"Q\")\n",
    "df[\"CohortQuarter\"] = df.groupby(\"Customer ID\")[\"InvoiceDate\"].transform(\"min\").dt.to_period(\"Q\")\n",
    "\n",
    "# 2. 코호트-분기별 평균 구매수량 집계\n",
    "cohort_qty = df.groupby([\"CohortQuarter\", \"InvoiceQuarter\"]).agg(\n",
    "    AvgQuantity=(\"Quantity\", \"mean\"),  # 평균 구매수량\n",
    "    ActiveCustomers=(\"Customer ID\", \"nunique\")  # 활성 고객 수 (옵션)\n",
    ").reset_index()\n",
    "\n",
    "# 3. 코호트 인덱스(분기 간격) 계산\n",
    "cohort_qty[\"Periods\"] = (cohort_qty[\"InvoiceQuarter\"] - cohort_qty[\"CohortQuarter\"]).apply(\n",
    "    lambda x: x.n if x.n >= 0 else 0\n",
    ")"
   ]
  },
  {
   "cell_type": "code",
   "execution_count": null,
   "id": "4eceecfa-a985-4218-9b12-f49256dfc35c",
   "metadata": {},
   "outputs": [],
   "source": [
    "# 평균 구매수량 피벗 테이블\n",
    "qty_pivot = cohort_qty.pivot_table(\n",
    "    index=\"CohortQuarter\",\n",
    "    columns=\"Periods\",\n",
    "    values=\"AvgQuantity\",\n",
    "    aggfunc=\"mean\"\n",
    ")\n",
    "\n",
    "# 활성 고객 수 피벗 테이블 (옵션)\n",
    "customer_pivot = cohort_qty.pivot_table(\n",
    "    index=\"CohortQuarter\",\n",
    "    columns=\"Periods\",\n",
    "    values=\"ActiveCustomers\",\n",
    "    aggfunc=\"sum\"\n",
    ")"
   ]
  },
  {
   "cell_type": "code",
   "execution_count": null,
   "id": "62a1f48e-293e-46c2-802d-aeca142eac28",
   "metadata": {},
   "outputs": [],
   "source": [
    "plt.figure(figsize=(12, 8))\n",
    "sns.heatmap(\n",
    "    qty_pivot,\n",
    "    annot=True,\n",
    "    fmt=\".1f\",  # 소수점 1자리 표시\n",
    "    cmap=\"Blues\",\n",
    "    linewidths=0.5,\n",
    "    mask=qty_pivot.isnull(),\n",
    "    cbar_kws={\"label\": \"Average Quantity\"}\n",
    ")\n",
    "plt.title(\"Quarterly Cohort Analysis: Average Purchase Quantity\", fontsize=16)\n",
    "plt.xlabel(\"Quarters After First Purchase\", fontsize=12)\n",
    "plt.ylabel(\"Cohort Quarter\", fontsize=12)\n",
    "plt.show()"
   ]
  },
  {
   "cell_type": "code",
   "execution_count": null,
   "id": "010d7ede-fafb-492d-a2c2-29efc85eb88c",
   "metadata": {},
   "outputs": [],
   "source": [
    "plt.figure(figsize=(12, 6))\n",
    "for cohort in qty_pivot.index:\n",
    "    plt.plot(\n",
    "        qty_pivot.columns,\n",
    "        qty_pivot.loc[cohort],\n",
    "        marker=\"o\",\n",
    "        label=f\"Cohort {cohort}\"\n",
    "    )\n",
    "plt.title(\"Average Quantity Trend by Cohort\", fontsize=16)\n",
    "plt.xlabel(\"Quarters After First Purchase\", fontsize=12)\n",
    "plt.ylabel(\"Average Quantity\", fontsize=12)\n",
    "plt.legend(bbox_to_anchor=(1.05, 1), loc=\"upper left\")\n",
    "plt.grid(linestyle=\"--\", alpha=0.4)\n",
    "plt.tight_layout()\n",
    "plt.show()"
   ]
  },
  {
   "cell_type": "code",
   "execution_count": null,
   "id": "bf0bc385-d264-4b80-a25d-a93f615a5961",
   "metadata": {},
   "outputs": [],
   "source": [
    "# 1. 월별 집계 (총 수익 + 활성 고객 수)\n",
    "monthly_data = df.resample('M', on='InvoiceDate').agg(\n",
    "    TotalRevenue=('Total', 'sum'),      # 월별 총 수익\n",
    "    ActiveCustomers=('Customer ID', 'nunique')  # 월별 활성 고객 수\n",
    ").reset_index()\n",
    "\n",
    "# 2. ARPU 계산\n",
    "monthly_data['ARPU'] = monthly_data['TotalRevenue'] / monthly_data['ActiveCustomers']\n",
    "\n",
    "# 결과 확인\n",
    "print(monthly_data[['InvoiceDate', 'TotalRevenue', 'ActiveCustomers', 'ARPU']])\n"
   ]
  },
  {
   "cell_type": "code",
   "execution_count": null,
   "id": "610ea884-c0cf-450e-962f-ffc602bc7aef",
   "metadata": {},
   "outputs": [],
   "source": [
    "##월별추이\n",
    "\n",
    "plt.figure(figsize=(14, 6))\n",
    "plt.plot(\n",
    "    monthly_data['InvoiceDate'],\n",
    "    monthly_data['ARPU'],\n",
    "    marker='o',\n",
    "    linestyle='-',\n",
    "    color='royalblue',\n",
    "    label='ARPU'\n",
    ")\n"
   ]
  },
  {
   "cell_type": "code",
   "execution_count": null,
   "id": "c005f65a-d652-4e21-923a-0bdd789ec73a",
   "metadata": {},
   "outputs": [],
   "source": [
    "plt.xlabel('Month', fontsize=12)\n",
    "plt.ylabel('ARPU', fontsize=12)\n",
    "plt.grid(axis='y', linestyle='--', alpha=0.4)\n",
    "plt.xticks(rotation=45)\n",
    "\n",
    "# 최대/최소 ARPU 강조\n",
    "max_arpu = monthly_data['ARPU'].max()\n",
    "min_arpu = monthly_data['ARPU'].min()\n",
    "plt.axhline(max_arpu, color='red', linestyle=':', alpha=0.5, label=f'Max ARPU: {max_arpu:.2f}')\n",
    "plt.axhline(min_arpu, color='green', linestyle=':', alpha=0.5, label=f'Min ARPU: {min_arpu:.2f}')\n",
    "\n",
    "plt.legend()\n",
    "plt.tight_layout()\n",
    "plt.show()"
   ]
  },
  {
   "cell_type": "code",
   "execution_count": null,
   "id": "221ccd39-21e0-459d-bd46-904cc8382b29",
   "metadata": {},
   "outputs": [],
   "source": [
    "fig, ax1 = plt.subplots(figsize=(14, 6))\n",
    "\n",
    "# ARPU (첫 번째 축)\n",
    "ax1.plot(\n",
    "    monthly_data['InvoiceDate'],\n",
    "    monthly_data['ARPU'],\n",
    "    color='red',\n",
    "    marker='o',\n",
    "    label='ARPU'\n",
    ")\n",
    "ax1.set_xlabel('Month')\n",
    "ax1.set_ylabel('ARPU', color='red')\n",
    "ax1.tick_params(axis='y', labelcolor='red')\n",
    "\n",
    "# 활성 고객 수 (두 번째 축)\n",
    "ax2 = ax1.twinx()\n",
    "ax2.bar(\n",
    "    monthly_data['InvoiceDate'],\n",
    "    monthly_data['ActiveCustomers'],\n",
    "    color='skyblue',\n",
    "    alpha=0.4,\n",
    "    label='Active Customers'\n",
    ")\n",
    "ax2.set_ylabel('Active Customers', color='skyblue')\n",
    "ax2.tick_params(axis='y', labelcolor='skyblue')\n",
    "\n",
    "plt.title('ARPU vs Active Customers', fontsize=16)\n",
    "fig.legend(loc='upper right')\n",
    "plt.show()"
   ]
  },
  {
   "cell_type": "code",
   "execution_count": null,
   "id": "56f5375b-f736-4367-8d9b-c99245e41ed2",
   "metadata": {},
   "outputs": [],
   "source": [
    "# 파라미터 설정--\n",
    "low = 5    # 최소 대기시간 (분)\n",
    "high = 15  # 최대 대기시간 (분)\n",
    "num_customers = 100  # 고객 수\n",
    "\n",
    "# 균등분포로 대기시간 생성\n",
    "waiting_times = np.random.uniform(low=low, high=high, size=num_customers)\n",
    "\n",
    "# 결과 출력 (첫 10개 값 샘플)\n",
    "print(\"시뮬레이션된 대기시간 예시 (첫 10명):\")\n",
    "print(waiting_times[:10].round(2))"
   ]
  },
  {
   "cell_type": "code",
   "execution_count": null,
   "id": "0d8fa6b9-76ab-40d3-8d96-e258eef7f4d2",
   "metadata": {},
   "outputs": [],
   "source": [
    "# 통계 계산\n",
    "mean_waiting = np.mean(waiting_times).round(2)\n",
    "std_waiting = np.std(waiting_times).round(2)\n",
    "\n",
    "print(f\"\\n평균 대기시간: {mean_waiting} 분\")\n",
    "print(f\"표준편차: {std_waiting} 분\")"
   ]
  },
  {
   "cell_type": "code",
   "execution_count": null,
   "id": "638caf43-c2de-4fb2-b156-22df25a37e19",
   "metadata": {},
   "outputs": [],
   "source": [
    "plt.figure(figsize=(10, 6))\n",
    "plt.hist(waiting_times, bins=15, color='skyblue', edgecolor='black', alpha=0.7)\n",
    "plt.axvline(mean_waiting, color='red', linestyle='dashed', linewidth=2, label=f'평균: {mean_waiting}분')\n",
    "plt.title('고객 대기시간 분포 (균등분포)', fontsize=15)\n",
    "plt.xlabel('대기시간 (분)', fontsize=12)\n",
    "plt.ylabel('고객 수', fontsize=12)\n",
    "plt.legend()\n",
    "plt.grid(axis='y', alpha=0.3)\n",
    "plt.show()"
   ]
  },
  {
   "cell_type": "code",
   "execution_count": null,
   "id": "3e24b57f-5d2b-45e9-8b2f-6acba71887bd",
   "metadata": {},
   "outputs": [],
   "source": [
    "# 설정\n",
    "p_success = 0.3\n",
    "num_trials = 10\n",
    "\n",
    "# 각 시도의 성공 여부 (1: 성공, 0: 실패)\n",
    "results = np.random.binomial(n=1, p=p_success, size=num_trials)\n",
    "\n",
    "# 총 성공 횟수\n",
    "total_success = np.sum(results)\n",
    "\n",
    "# 출력\n",
    "print(\"각 시도의 성공 여부:\", results)\n",
    "print(\"총 성공 횟수:\", total_success)"
   ]
  },
  {
   "cell_type": "code",
   "execution_count": null,
   "id": "4cb0f8d8-0836-4c4f-a596-b588394f55fa",
   "metadata": {},
   "outputs": [],
   "source": [
    "num_students = 20\n",
    "num_questions = 5\n",
    "p_correct = 0.7\n",
    "\n",
    "# 각 학생의 점수 시뮬레이션 (5문제에 대해 Bernoulli 시행 후 합계)\n",
    "scores = np.random.binomial(n=num_questions, p=p_correct, size=num_students)\n",
    "\n",
    "# 평균 점수 계산\n",
    "average_score = np.mean(scores)\n",
    "\n",
    "print(\"각 학생의 점수:\", scores)\n",
    "print(\"전체 평균 점수:\", average_score)"
   ]
  },
  {
   "cell_type": "code",
   "execution_count": null,
   "id": "924224d6-fc9d-42e3-a44a-de6b99455575",
   "metadata": {},
   "outputs": [],
   "source": [
    "# 설정\n",
    "mu = 50      # 평균\n",
    "sigma = 5    # 표준편차\n",
    "sample_size = 1000\n",
    "\n",
    "# 정규분포에서 1000개 샘플 생성\n",
    "weights = np.random.normal(mu, sigma, sample_size)\n",
    "\n",
    "# 45g 이상 55g 이하인 제품의 비율 계산\n",
    "within_range = np.sum((weights >= 45) & (weights <= 55)) / sample_size\n",
    "print(f\"45g 이상 55g 이하인 제품의 비율: {within_range:.2%}\")\n",
    "\n",
    "# 히스토그램 그리기\n",
    "plt.hist(weights, bins=30, edgecolor='black', alpha=0.7)\n",
    "plt.axvline(x=45, color='red', linestyle='--', label='45g')\n",
    "plt.axvline(x=55, color='red', linestyle='--', label='55g')\n",
    "plt.title('제품 무게 분포 (정규분포)')\n",
    "plt.xlabel('무게 (g)')\n",
    "plt.ylabel('빈도')\n",
    "plt.legend()\n",
    "plt.grid(True)"
   ]
  },
  {
   "cell_type": "code",
   "execution_count": null,
   "id": "f7790509-6d10-4656-bdc9-929ca3d0ebf5",
   "metadata": {},
   "outputs": [],
   "source": []
  },
  {
   "cell_type": "code",
   "execution_count": null,
   "id": "f47af32e-b1a0-4c2b-b31d-3cbc2287703a",
   "metadata": {},
   "outputs": [],
   "source": []
  },
  {
   "cell_type": "code",
   "execution_count": null,
   "id": "b45d38dc-bf28-4616-b926-6f2a41f1d4a0",
   "metadata": {},
   "outputs": [],
   "source": []
  }
 ],
 "metadata": {
  "kernelspec": {
   "display_name": "Python 3 (ipykernel)",
   "language": "python",
   "name": "python3"
  },
  "language_info": {
   "codemirror_mode": {
    "name": "ipython",
    "version": 3
   },
   "file_extension": ".py",
   "mimetype": "text/x-python",
   "name": "python",
   "nbconvert_exporter": "python",
   "pygments_lexer": "ipython3",
   "version": "3.12.7"
  }
 },
 "nbformat": 4,
 "nbformat_minor": 5
}
